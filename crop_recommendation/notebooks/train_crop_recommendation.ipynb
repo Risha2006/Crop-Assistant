{
 "cells": [
  {
   "cell_type": "markdown",
   "id": "7f3d5d87-a667-412f-88d2-3d98d41ca808",
   "metadata": {},
   "source": [
    "# imports"
   ]
  },
  {
   "cell_type": "code",
   "execution_count": 1,
   "id": "d4413e76-fdc6-4509-96db-b055f77e9851",
   "metadata": {},
   "outputs": [],
   "source": [
    "import os\n",
    "import json\n",
    "import joblib\n",
    "import numpy as np\n",
    "import pandas as pd\n",
    "import matplotlib.pyplot as plt\n",
    "\n",
    "from sklearn.model_selection import train_test_split, GridSearchCV\n",
    "from sklearn.ensemble import RandomForestClassifier\n",
    "from sklearn.metrics import (\n",
    "    accuracy_score, classification_report, confusion_matrix\n",
    ")"
   ]
  },
  {
   "cell_type": "markdown",
   "id": "8edf4e13-1729-4b65-9add-b67085c3afe7",
   "metadata": {},
   "source": [
    "# Load Dataset"
   ]
  },
  {
   "cell_type": "code",
   "execution_count": 2,
   "id": "fce0d374-b758-411f-87ee-1ae17818cf35",
   "metadata": {},
   "outputs": [
    {
     "name": "stdout",
     "output_type": "stream",
     "text": [
      "    N   P   K  temperature   humidity        ph    rainfall label\n",
      "0  90  42  43    20.879744  82.002744  6.502985  202.935536  rice\n",
      "1  85  58  41    21.770462  80.319644  7.038096  226.655537  rice\n",
      "2  60  55  44    23.004459  82.320763  7.840207  263.964248  rice\n",
      "3  74  35  40    26.491096  80.158363  6.980401  242.864034  rice\n",
      "4  78  42  42    20.130175  81.604873  7.628473  262.717340  rice\n"
     ]
    }
   ],
   "source": [
    "CSV_PATH = r\"Crop_recommendation.csv\"  \n",
    "df = pd.read_csv(CSV_PATH)\n",
    "print(\"Rows, Cols:\", df.shape)\n",
    "print(\"Columns:\", list(df.columns))\n",
    "print(df.head(3))"
   ]
  },
  {
   "cell_type": "markdown",
   "id": "ac8c0a6d-67b1-4009-8f59-5ea98f47426f",
   "metadata": {},
   "source": [
    "# Drop exact duplicates"
   ]
  },
  {
   "cell_type": "code",
   "execution_count": 10,
   "id": "50270fbd-9f1a-4546-89e7-a2723ce2adcd",
   "metadata": {},
   "outputs": [
    {
     "name": "stdout",
     "output_type": "stream",
     "text": [
      "Removed duplicates: 0\n"
     ]
    }
   ],
   "source": [
    "before = len(df)\n",
    "df = df.drop_duplicates()\n",
    "after = len(df)\n",
    "print(f\"Removed duplicates: {before - after}\")"
   ]
  },
  {
   "cell_type": "markdown",
   "id": "e089f8fd-cb22-4f7d-ab19-459c05d58ada",
   "metadata": {},
   "source": [
    "# Check missing values"
   ]
  },
  {
   "cell_type": "code",
   "execution_count": 11,
   "id": "20a47fff-2147-4c1a-8e33-0db276d31988",
   "metadata": {},
   "outputs": [
    {
     "name": "stdout",
     "output_type": "stream",
     "text": [
      "\n",
      "Missing values per column:\n",
      " N              0\n",
      "P              0\n",
      "K              0\n",
      "temperature    0\n",
      "humidity       0\n",
      "ph             0\n",
      "rainfall       0\n",
      "label          0\n",
      "dtype: int64\n"
     ]
    }
   ],
   "source": [
    "na_counts = df.isna().sum()\n",
    "print(\"\\nMissing values per column:\\n\", na_counts)\n",
    "if na_counts.any():\n",
    "    # Simple strategy: drop rows with NA (dataset is small & clean typically)\n",
    "    df = df.dropna()\n",
    "    print(\"Dropped rows with NA. New shape:\", df.shape)"
   ]
  },
  {
   "cell_type": "code",
   "execution_count": 13,
   "id": "460c941d-5a38-4a81-8f56-1a5289d75a53",
   "metadata": {},
   "outputs": [],
   "source": [
    "df[\"humidity\"] = df[\"humidity\"].clip(0, 100)\n",
    "df[\"ph\"] = df[\"ph\"].clip(0, 14)\n",
    "for c in [\"N\", \"P\", \"K\", \"rainfall\", \"temperature\"]:\n",
    "    df[c] = df[c].clip(lower=0)"
   ]
  },
  {
   "cell_type": "markdown",
   "id": "c39d903e-6872-4df1-8171-8f15ac686f00",
   "metadata": {},
   "source": [
    "#  Features (X) and Target (y)"
   ]
  },
  {
   "cell_type": "code",
   "execution_count": 14,
   "id": "6396ddfd-e4c1-413c-85a9-b3d638375084",
   "metadata": {},
   "outputs": [],
   "source": [
    "FEATURES = [\"N\", \"P\", \"K\", \"temperature\", \"humidity\", \"ph\", \"rainfall\"]\n",
    "TARGET = \"label\"\n",
    "\n",
    "X = df[FEATURES].values\n",
    "y = df[TARGET].values\n"
   ]
  },
  {
   "cell_type": "markdown",
   "id": "5f4049ff-6028-4a2b-bc3e-6e94d51e20f2",
   "metadata": {},
   "source": [
    "#  Train-Test Split"
   ]
  },
  {
   "cell_type": "code",
   "execution_count": 16,
   "id": "59671476-66a8-4b8f-97ed-0383f9e8275b",
   "metadata": {},
   "outputs": [
    {
     "name": "stdout",
     "output_type": "stream",
     "text": [
      "\n",
      "Splits → Train: 1540, Val: 220, Test: 440\n",
      "Unique classes: 22\n"
     ]
    }
   ],
   "source": [
    "X_train, X_test, y_train, y_test = train_test_split(\n",
    "    X, y, test_size=0.2, random_state=42\n",
    ")\n",
    "X_train, X_val, y_train, y_val = train_test_split(\n",
    "    X_train_full, y_train_full, test_size=0.125, random_state=42, stratify=y_train_full\n",
    ")\n",
    "\n",
    "print(f\"\\nSplits → Train: {X_train.shape[0]}, Val: {X_val.shape[0]}, Test: {X_test.shape[0]}\")\n",
    "print(\"Unique classes:\", len(np.unique(y)))"
   ]
  },
  {
   "cell_type": "markdown",
   "id": "b9f28dfd-15f0-426d-8c32-81f898c4a1d2",
   "metadata": {},
   "source": [
    "#  Model Training (Random Forest)"
   ]
  },
  {
   "cell_type": "code",
   "execution_count": 17,
   "id": "27d41e8d-f0ab-4dd5-a860-9bfe703cdb11",
   "metadata": {},
   "outputs": [
    {
     "name": "stdout",
     "output_type": "stream",
     "text": [
      "Fitting 3 folds for each of 36 candidates, totalling 108 fits\n",
      "\n",
      "Best params: {'max_depth': None, 'min_samples_leaf': 1, 'min_samples_split': 2, 'n_estimators': 150}\n"
     ]
    }
   ],
   "source": [
    "rf = RandomForestClassifier(random_state=42, n_jobs=-1)\n",
    "\n",
    "param_grid = {\n",
    "    \"n_estimators\": [150, 250, 400],\n",
    "    \"max_depth\": [None, 10, 20],\n",
    "    \"min_samples_split\": [2, 5],\n",
    "    \"min_samples_leaf\": [1, 2]\n",
    "}\n",
    "\n",
    "grid = GridSearchCV(\n",
    "    rf,\n",
    "    param_grid,\n",
    "    scoring=\"accuracy\",\n",
    "    cv=3,\n",
    "    n_jobs=-1,\n",
    "    verbose=1\n",
    ")\n",
    "grid.fit(X_train, y_train)\n",
    "\n",
    "best_model = grid.best_estimator_\n",
    "print(\"\\nBest params:\", grid.best_params_)"
   ]
  },
  {
   "cell_type": "markdown",
   "id": "bc87151b-8ceb-4a36-876c-f37bf8951c0d",
   "metadata": {},
   "source": [
    "# EVALUATION (VAL + TEST)"
   ]
  },
  {
   "cell_type": "code",
   "execution_count": 18,
   "id": "1b7e81e8-7190-487f-bd88-80c09a2982d3",
   "metadata": {},
   "outputs": [
    {
     "name": "stdout",
     "output_type": "stream",
     "text": [
      "\n",
      "[Validation] Accuracy: 99.09%\n",
      "              precision    recall  f1-score   support\n",
      "\n",
      "       apple       1.00      1.00      1.00        10\n",
      "      banana       1.00      1.00      1.00        10\n",
      "   blackgram       1.00      1.00      1.00        10\n",
      "    chickpea       1.00      1.00      1.00        10\n",
      "     coconut       1.00      1.00      1.00        10\n",
      "      coffee       1.00      1.00      1.00        10\n",
      "      cotton       1.00      1.00      1.00        10\n",
      "      grapes       1.00      1.00      1.00        10\n",
      "        jute       0.90      0.90      0.90        10\n",
      " kidneybeans       1.00      1.00      1.00        10\n",
      "      lentil       1.00      1.00      1.00        10\n",
      "       maize       1.00      1.00      1.00        10\n",
      "       mango       1.00      1.00      1.00        10\n",
      "   mothbeans       1.00      1.00      1.00        10\n",
      "    mungbean       1.00      1.00      1.00        10\n",
      "   muskmelon       1.00      1.00      1.00        10\n",
      "      orange       1.00      1.00      1.00        10\n",
      "      papaya       1.00      1.00      1.00        10\n",
      "  pigeonpeas       1.00      1.00      1.00        10\n",
      " pomegranate       1.00      1.00      1.00        10\n",
      "        rice       0.90      0.90      0.90        10\n",
      "  watermelon       1.00      1.00      1.00        10\n",
      "\n",
      "    accuracy                           0.99       220\n",
      "   macro avg       0.99      0.99      0.99       220\n",
      "weighted avg       0.99      0.99      0.99       220\n",
      "\n",
      "\n",
      "[Test] Accuracy: 100.00%\n",
      "              precision    recall  f1-score   support\n",
      "\n",
      "       apple       1.00      1.00      1.00        23\n",
      "      banana       1.00      1.00      1.00        21\n",
      "   blackgram       1.00      1.00      1.00        20\n",
      "    chickpea       1.00      1.00      1.00        26\n",
      "     coconut       1.00      1.00      1.00        27\n",
      "      coffee       1.00      1.00      1.00        17\n",
      "      cotton       1.00      1.00      1.00        17\n",
      "      grapes       1.00      1.00      1.00        14\n",
      "        jute       1.00      1.00      1.00        23\n",
      " kidneybeans       1.00      1.00      1.00        20\n",
      "      lentil       1.00      1.00      1.00        11\n",
      "       maize       1.00      1.00      1.00        21\n",
      "       mango       1.00      1.00      1.00        19\n",
      "   mothbeans       1.00      1.00      1.00        24\n",
      "    mungbean       1.00      1.00      1.00        19\n",
      "   muskmelon       1.00      1.00      1.00        17\n",
      "      orange       1.00      1.00      1.00        14\n",
      "      papaya       1.00      1.00      1.00        23\n",
      "  pigeonpeas       1.00      1.00      1.00        23\n",
      " pomegranate       1.00      1.00      1.00        23\n",
      "        rice       1.00      1.00      1.00        19\n",
      "  watermelon       1.00      1.00      1.00        19\n",
      "\n",
      "    accuracy                           1.00       440\n",
      "   macro avg       1.00      1.00      1.00       440\n",
      "weighted avg       1.00      1.00      1.00       440\n",
      "\n"
     ]
    }
   ],
   "source": [
    "def evaluate(split_name, Xs, ys, model):\n",
    "    preds = model.predict(Xs)\n",
    "    acc = accuracy_score(ys, preds)\n",
    "    print(f\"\\n[{split_name}] Accuracy: {acc*100:.2f}%\")\n",
    "    print(classification_report(ys, preds))\n",
    "    return preds\n",
    "\n",
    "_ = evaluate(\"Validation\", X_val, y_val, best_model)\n",
    "test_preds = evaluate(\"Test\", X_test, y_test, best_model)"
   ]
  },
  {
   "cell_type": "markdown",
   "id": "8cde6503-84a2-4b3d-bb2d-82f290bfd16c",
   "metadata": {},
   "source": [
    "# Confusion matrix on Test"
   ]
  },
  {
   "cell_type": "code",
   "execution_count": 19,
   "id": "ab4e962b-1f3c-4e7e-92ec-fb8d1d15cd4f",
   "metadata": {},
   "outputs": [
    {
     "data": {
      "image/png": "[encoded data removed]",
      "text/plain": [
       "<Figure size 800x800 with 1 Axes>"
      ]
     },
     "metadata": {},
     "output_type": "display_data"
    }
   ],
   "source": [
    "cm = confusion_matrix(y_test, test_preds, labels=np.unique(y))\n",
    "fig = plt.figure(figsize=(8, 8))\n",
    "plt.imshow(cm, interpolation='nearest')\n",
    "plt.title(\"Confusion Matrix (Test)\")\n",
    "plt.xticks(ticks=np.arange(len(np.unique(y))), labels=np.unique(y), rotation=90)\n",
    "plt.yticks(ticks=np.arange(len(np.unique(y))), labels=np.unique(y))\n",
    "plt.xlabel(\"Predicted\")\n",
    "plt.ylabel(\"True\")\n",
    "plt.tight_layout()\n",
    "plt.show()\n"
   ]
  },
  {
   "cell_type": "markdown",
   "id": "7a0b484f-32ae-48d8-80fc-e2fca3929aac",
   "metadata": {},
   "source": [
    " # FEATURE IMPORTANCE (EXPLAINABILITY)"
   ]
  },
  {
   "cell_type": "code",
   "execution_count": 21,
   "id": "8c74b20a-4e28-47e6-8364-2c840ffc2895",
   "metadata": {},
   "outputs": [
    {
     "data": {
      "image/png": "[encoded data removed]",
      "text/plain": [
       "<Figure size 600x400 with 1 Axes>"
      ]
     },
     "metadata": {},
     "output_type": "display_data"
    },
    {
     "name": "stdout",
     "output_type": "stream",
     "text": [
      "\n",
      "Feature importances:\n",
      "rainfall     0.222\n",
      "humidity     0.209\n",
      "K            0.181\n",
      "P            0.143\n",
      "N            0.111\n",
      "temperature  0.081\n",
      "ph           0.052\n"
     ]
    }
   ],
   "source": [
    "importances = best_model.feature_importances_\n",
    "order = np.argsort(importances)[::-1]\n",
    "\n",
    "plt.figure(figsize=(6, 4))\n",
    "plt.bar(range(len(FEATURES)), importances[order])\n",
    "plt.xticks(range(len(FEATURES)), np.array(FEATURES)[order], rotation=45, ha=\"right\")\n",
    "plt.ylabel(\"Importance\")\n",
    "plt.title(\"RandomForest Feature Importances\")\n",
    "plt.tight_layout()\n",
    "plt.show()\n",
    "\n",
    "print(\"\\nFeature importances:\")\n",
    "for i in order:\n",
    "    print(f\"{FEATURES[i]:<12} {importances[i]:.3f}\")"
   ]
  },
  {
   "cell_type": "markdown",
   "id": "6576d8fa-5df1-49fc-9313-32c2b6224b9a",
   "metadata": {},
   "source": [
    "#  Predictions & Accuracy\n"
   ]
  },
  {
   "cell_type": "code",
   "execution_count": 22,
   "id": "3d1c1c0d-22a9-4c71-9c90-f0be0b5e12e0",
   "metadata": {},
   "outputs": [
    {
     "name": "stdout",
     "output_type": "stream",
     "text": [
      "Accuracy: 99.31818181818181\n",
      "\n",
      "Classification Report:\n",
      "               precision    recall  f1-score   support\n",
      "\n",
      "       apple       1.00      1.00      1.00        23\n",
      "      banana       1.00      1.00      1.00        21\n",
      "   blackgram       1.00      1.00      1.00        20\n",
      "    chickpea       1.00      1.00      1.00        26\n",
      "     coconut       1.00      1.00      1.00        27\n",
      "      coffee       1.00      1.00      1.00        17\n",
      "      cotton       1.00      1.00      1.00        17\n",
      "      grapes       1.00      1.00      1.00        14\n",
      "        jute       0.92      1.00      0.96        23\n",
      " kidneybeans       1.00      1.00      1.00        20\n",
      "      lentil       0.92      1.00      0.96        11\n",
      "       maize       1.00      1.00      1.00        21\n",
      "       mango       1.00      1.00      1.00        19\n",
      "   mothbeans       1.00      0.96      0.98        24\n",
      "    mungbean       1.00      1.00      1.00        19\n",
      "   muskmelon       1.00      1.00      1.00        17\n",
      "      orange       1.00      1.00      1.00        14\n",
      "      papaya       1.00      1.00      1.00        23\n",
      "  pigeonpeas       1.00      1.00      1.00        23\n",
      " pomegranate       1.00      1.00      1.00        23\n",
      "        rice       1.00      0.89      0.94        19\n",
      "  watermelon       1.00      1.00      1.00        19\n",
      "\n",
      "    accuracy                           0.99       440\n",
      "   macro avg       0.99      0.99      0.99       440\n",
      "weighted avg       0.99      0.99      0.99       440\n",
      "\n"
     ]
    },
    {
     "name": "stderr",
     "output_type": "stream",
     "text": [
      "C:\\Users\\Risha H M\\AI_Crop_System\\venv\\Lib\\site-packages\\sklearn\\utils\\validation.py:2749: UserWarning: X does not have valid feature names, but RandomForestClassifier was fitted with feature names\n",
      "  warnings.warn(\n"
     ]
    }
   ],
   "source": [
    "y_pred = model.predict(X_test)\n",
    "print(\"Accuracy:\", accuracy_score(y_test, y_pred) * 100)\n",
    "print(\"\\nClassification Report:\\n\", classification_report(y_test, y_pred))"
   ]
  },
  {
   "cell_type": "markdown",
   "id": "a71b93ac-d559-4ef1-b1f0-236717e5e6e3",
   "metadata": {},
   "source": [
    "\n",
    "# Save the Model"
   ]
  },
  {
   "cell_type": "code",
   "execution_count": 28,
   "id": "59055d45-e478-461f-84dd-6bebee906ea5",
   "metadata": {},
   "outputs": [
    {
     "name": "stdout",
     "output_type": "stream",
     "text": [
      "\n",
      "Saved model → crop_recommendation.pkl\n",
      " Saved metadata → crop_recommendation_metadata.json\n"
     ]
    }
   ],
   "source": [
    "MODEL_PATH = \"crop_recommendation.pkl\"\n",
    "META_PATH = \"crop_recommendation_metadata.json\"\n",
    "\n",
    "joblib.dump(best_model, MODEL_PATH)\n",
    "metadata = {\n",
    "    \"features\": FEATURES,\n",
    "    \"classes\": sorted(list(np.unique(y))),\n",
    "    \"best_params\": grid.best_params_\n",
    "}\n",
    "with open(META_PATH, \"w\") as f:\n",
    "    json.dump(metadata, f, indent=2)\n",
    "\n",
    "print(f\"\\nSaved model → {MODEL_PATH}\")\n",
    "print(f\" Saved metadata → {META_PATH}\")"
   ]
  },
  {
   "cell_type": "markdown",
   "id": "f7467200-c62f-4f67-a750-8f16bc4e4ac3",
   "metadata": {},
   "source": [
    "#  Example Prediction"
   ]
  },
  {
   "cell_type": "code",
   "execution_count": 25,
   "id": "511229c2-a83f-4fd2-abd6-534f3aa9151f",
   "metadata": {},
   "outputs": [
    {
     "name": "stdout",
     "output_type": "stream",
     "text": [
      "\n",
      "Sample input (feature order): ['N', 'P', 'K', 'temperature', 'humidity', 'ph', 'rainfall']\n",
      "Prediction: rice\n",
      "Top-3 (class, prob): [('rice', 0.8733333333333333), ('jute', 0.11333333333333333), ('maize', 0.006666666666666667)]\n"
     ]
    }
   ],
   "source": [
    "def predict_sample(sample_row):\n",
    "    model = joblib.load(MODEL_PATH)\n",
    "    with open(META_PATH, \"r\") as f:\n",
    "        meta = json.load(f)\n",
    "    feats = meta[\"features\"]\n",
    "    sample = np.array(sample_row, dtype=float).reshape(1, -1)\n",
    "    pred = model.predict(sample)[0]\n",
    "    proba = model.predict_proba(sample)[0]\n",
    "    top_idx = np.argsort(proba)[::-1][:3]\n",
    "    top = [(model.classes_[i], float(proba[i])) for i in top_idx]\n",
    "    print(\"\\nSample input (feature order):\", feats)\n",
    "    print(\"Prediction:\", pred)\n",
    "    print(\"Top-3 (class, prob):\", top)\n",
    "\n",
    "# Example (tweak as needed)\n",
    "predict_sample([90, 42, 43, 20, 80, 6.5, 200])"
   ]
  },
  {
   "cell_type": "code",
   "execution_count": 26,
   "id": "40980d2a-b5fe-4b44-a2a1-da0887d9ca54",
   "metadata": {},
   "outputs": [
    {
     "name": "stdout",
     "output_type": "stream",
     "text": [
      "Recommended Crop: jute\n"
     ]
    },
    {
     "name": "stderr",
     "output_type": "stream",
     "text": [
      "C:\\Users\\Risha H M\\AI_Crop_System\\venv\\Lib\\site-packages\\sklearn\\utils\\validation.py:2749: UserWarning: X does not have valid feature names, but RandomForestClassifier was fitted with feature names\n",
      "  warnings.warn(\n"
     ]
    }
   ],
   "source": [
    "sample_data = np.array([[60, 62, 33, 20, 80, 9, 100]])  \n",
    "# Format: [N, P, K, temperature, humidity, pH, rainfall]\n",
    "predicted_crop = model.predict(sample_data)\n",
    "print(\"Recommended Crop:\", predicted_crop[0])"
   ]
  }
 ],
 "metadata": {
  "kernelspec": {
   "display_name": "Python 3 (ipykernel)",
   "language": "python",
   "name": "python3"
  },
  "language_info": {
   "codemirror_mode": {
    "name": "ipython",
    "version": 3
   },
   "file_extension": ".py",
   "mimetype": "text/x-python",
   "name": "python",
   "nbconvert_exporter": "python",
   "pygments_lexer": "ipython3",
   "version": "3.13.5"
  }
 },
 "nbformat": 4,
 "nbformat_minor": 5
}
